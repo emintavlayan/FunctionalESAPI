{
 "cells": [
  {
   "cell_type": "markdown",
   "metadata": {},
   "source": [
    "### **********************************************\n",
    "### Immutability -> Robustness\n",
    "- Once a value is set, it cannot change. \n",
    "- This eliminates side effects and unexpected changes in state.\n",
    "- `x = 5` // means X is and always will be 5. Ever.\n"
   ]
  },
  {
   "cell_type": "code",
   "execution_count": null,
   "metadata": {
    "dotnet_interactive": {
     "language": "csharp"
    },
    "polyglot_notebook": {
     "kernelName": "csharp"
    },
    "vscode": {
     "languageId": "polyglot-notebook"
    }
   },
   "outputs": [],
   "source": [
    "// Object-Oriented way\n",
    "var counter = 0;  // Mutable variable\n",
    "\n",
    "counter = counter + 2 ;  // Increment the counter\n",
    "\n",
    "Console.WriteLine(\"Result: \" + counter);  // Output: 1"
   ]
  },
  {
   "cell_type": "code",
   "execution_count": 3,
   "metadata": {
    "dotnet_interactive": {
     "language": "fsharp"
    },
    "polyglot_notebook": {
     "kernelName": "fsharp"
    },
    "vscode": {
     "languageId": "polyglot-notebook"
    }
   },
   "outputs": [],
   "source": [
    "// Functional way\n",
    "let x = 5  // x is immutable and will always be 5\n",
    "\n",
    "// Attempting to change it will result in an error\n",
    "//x <- 10  // Error: Cannot change the value of 'x'"
   ]
  },
  {
   "cell_type": "markdown",
   "metadata": {},
   "source": [
    "### **********************************************\n",
    "### Pure Functions -> Ease of Mind\n",
    "- They return the same output given the same input \n",
    "- They create no side effects. \n",
    "- This predictability provides peace of mind when reasoning about code.\n",
    "- Build simple functions and combine them. -> Modularity"
   ]
  },
  {
   "cell_type": "code",
   "execution_count": 4,
   "metadata": {
    "dotnet_interactive": {
     "language": "fsharp"
    },
    "polyglot_notebook": {
     "kernelName": "fsharp"
    },
    "vscode": {
     "languageId": "polyglot-notebook"
    }
   },
   "outputs": [
    {
     "name": "stdout",
     "output_type": "stream",
     "text": [
      "Result: Hello, world!\n"
     ]
    }
   ],
   "source": [
    "let combineStrings s1 s2 = \n",
    "    s1 + s2\n",
    "\n",
    "printfn \"Result: %s\" (combineStrings \"Hello, \" \"world!\")"
   ]
  },
  {
   "cell_type": "markdown",
   "metadata": {},
   "source": [
    "### **********************************************\n",
    "### Types\n",
    "- Always static\n",
    "- To learn, write them manually"
   ]
  },
  {
   "cell_type": "code",
   "execution_count": 5,
   "metadata": {
    "dotnet_interactive": {
     "language": "fsharp"
    },
    "polyglot_notebook": {
     "kernelName": "fsharp"
    },
    "vscode": {
     "languageId": "polyglot-notebook"
    }
   },
   "outputs": [],
   "source": [
    "// Basic types\n",
    "let number : int = 5\n",
    "let name : string = \"Functional\"\n",
    "\n",
    "// Tuples: combining values\n",
    "let pair = (1, \"hello\")  // Type is int * string\n"
   ]
  },
  {
   "cell_type": "markdown",
   "metadata": {},
   "source": [
    "### **********************************************\n",
    "### Records \n",
    "- ... are like AND gates \n",
    "- They bundle data together into a single unit. \n",
    "- Each field in a record must exist and hold a value. \n",
    "- Valid only when all of its fields are present."
   ]
  },
  {
   "cell_type": "code",
   "execution_count": 5,
   "metadata": {
    "dotnet_interactive": {
     "language": "fsharp"
    },
    "polyglot_notebook": {
     "kernelName": "fsharp"
    },
    "vscode": {
     "languageId": "polyglot-notebook"
    }
   },
   "outputs": [
    {
     "name": "stdout",
     "output_type": "stream",
     "text": [
      "Name is: Alice\n",
      "Age is: 45\n"
     ]
    }
   ],
   "source": [
    "// Records: named fields \n",
    "type Person = { \n",
    "    Name: string \n",
    "    Age: int \n",
    "}\n",
    "\n",
    "let friend = { Name = \"Alice\"; Age = 45 }\n",
    "\n",
    "printfn \"Name is: %s\" friend.Name // Accessable by dot notation\n",
    "printfn \"Age is: %d\" friend.Age"
   ]
  },
  {
   "cell_type": "markdown",
   "metadata": {},
   "source": [
    "### **********************************************\n",
    "### Discriminated Unions (DUs) \n",
    "- ... are like OR gates \n",
    "- They define a type that can be one of several forms. \n",
    "- They allow only one of its possible cases to hold at any time. "
   ]
  },
  {
   "cell_type": "code",
   "execution_count": 6,
   "metadata": {
    "dotnet_interactive": {
     "language": "fsharp"
    },
    "polyglot_notebook": {
     "kernelName": "fsharp"
    },
    "vscode": {
     "languageId": "polyglot-notebook"
    }
   },
   "outputs": [
    {
     "name": "stdout",
     "output_type": "stream",
     "text": [
      "Area: 314.159265\n",
      "Area: 200.000000\n"
     ]
    }
   ],
   "source": [
    "// Discriminated unions: multiple choices \n",
    "type Shape = \n",
    "    | Circle of float // Represents a circle with a radius\n",
    "    | Rectangle of float * float // Represents a rectangle with width and height\n",
    "\n",
    "let myCircle = Circle 10.0\n",
    "let myRectangle = Rectangle( 10.0, 20.0)\n",
    "\n",
    "let calculateArea inputShape =\n",
    "    match inputShape with\n",
    "    | Circle radius -> System.Math.PI * radius * radius\n",
    "    | Rectangle (width, height) -> width * height\n",
    "\n",
    "printfn \"Area: %f\" ( calculateArea myCircle)\n",
    "printfn \"Area: %f\" ( calculateArea myRectangle)"
   ]
  },
  {
   "cell_type": "markdown",
   "metadata": {},
   "source": [
    "### **********************************************\n",
    "### Types of Functions\n"
   ]
  },
  {
   "cell_type": "code",
   "execution_count": 12,
   "metadata": {
    "dotnet_interactive": {
     "language": "fsharp"
    },
    "polyglot_notebook": {
     "kernelName": "fsharp"
    },
    "vscode": {
     "languageId": "polyglot-notebook"
    }
   },
   "outputs": [
    {
     "name": "stdout",
     "output_type": "stream",
     "text": [
      "Result: 144\n"
     ]
    }
   ],
   "source": [
    "// Functions have types\n",
    "// int -> int\n",
    "let square ( x : int ) : int = \n",
    "    x * x\n",
    "\n",
    "printfn \"Result: %d\" ( square 12 )"
   ]
  },
  {
   "cell_type": "markdown",
   "metadata": {},
   "source": [
    "### **********************************************\n",
    "### Type Safety -> Fewer Bugs\n",
    "\n",
    "- Catch errors at compile time.\n",
    "- Only correct data types are allowed."
   ]
  },
  {
   "cell_type": "code",
   "execution_count": 24,
   "metadata": {
    "dotnet_interactive": {
     "language": "fsharp"
    },
    "polyglot_notebook": {
     "kernelName": "fsharp"
    },
    "vscode": {
     "languageId": "polyglot-notebook"
    }
   },
   "outputs": [],
   "source": [
    "let q = 5 + 2 // Raises Error"
   ]
  },
  {
   "cell_type": "markdown",
   "metadata": {},
   "source": [
    "### **********************************************\n",
    "### Type Inference\n",
    "* Compiler is making the type annotations for us\n",
    "* => You dont have to write any type manually\n",
    "* Yet everything is still static\n",
    "* => You HAVE to make everything properly matched\n",
    "* => Won't Compile"
   ]
  },
  {
   "cell_type": "code",
   "execution_count": 21,
   "metadata": {
    "dotnet_interactive": {
     "language": "fsharp"
    },
    "polyglot_notebook": {
     "kernelName": "fsharp"
    },
    "vscode": {
     "languageId": "polyglot-notebook"
    }
   },
   "outputs": [
    {
     "name": "stdout",
     "output_type": "stream",
     "text": [
      "Result: 5\n"
     ]
    }
   ],
   "source": [
    "// Type Signature\n",
    "let add x y =\n",
    "    x + y\n",
    "\n",
    "printfn \"Result: %d\" ( add 2 3 )\n",
    "//printfn \"Result: %f\" ( add 122.5 300.0 )\n",
    "//printfn \"Result: %s\" ( add \"Hello, \" \"Esapi!\" )"
   ]
  },
  {
   "cell_type": "markdown",
   "metadata": {},
   "source": [
    "### **********************************************\n",
    "### Partial Application\n",
    "- We can define things that are half functions ?!?!\n",
    "- Easily passed around\n",
    "- This makes code neat, clean and more understandable"
   ]
  },
  {
   "cell_type": "code",
   "execution_count": 22,
   "metadata": {
    "dotnet_interactive": {
     "language": "fsharp"
    },
    "polyglot_notebook": {
     "kernelName": "fsharp"
    },
    "vscode": {
     "languageId": "polyglot-notebook"
    }
   },
   "outputs": [],
   "source": [
    "// one argument missing BUT valid\n",
    "let addOne = add 1\n",
    "\n",
    "let multiply x y = \n",
    "    x * y\n",
    "\n",
    "// again partially applied\n",
    "let multiplyByTwo = multiply 2 "
   ]
  },
  {
   "cell_type": "code",
   "execution_count": 23,
   "metadata": {
    "dotnet_interactive": {
     "language": "fsharp"
    },
    "polyglot_notebook": {
     "kernelName": "fsharp"
    },
    "vscode": {
     "languageId": "polyglot-notebook"
    }
   },
   "outputs": [
    {
     "name": "stdout",
     "output_type": "stream",
     "text": [
      "Result: 11\n",
      "Result: 11\n"
     ]
    }
   ],
   "source": [
    "let result01 = addOne ( multiplyByTwo ( 5 ))\n",
    "\n",
    "// Piping\n",
    "let result02 = \n",
    "    5 \n",
    "    |> multiplyByTwo\n",
    "    |> addOne \n",
    "\n",
    "printfn \"Result: %d\" result01\n",
    "printfn \"Result: %d\" result02"
   ]
  },
  {
   "cell_type": "code",
   "execution_count": 29,
   "metadata": {
    "dotnet_interactive": {
     "language": "fsharp"
    },
    "polyglot_notebook": {
     "kernelName": "fsharp"
    },
    "vscode": {
     "languageId": "polyglot-notebook"
    }
   },
   "outputs": [],
   "source": [
    "let pd x = printfn \"Result: %d\" x // is the argument necessary?\n",
    "\n",
    "// let pf = printfn \"Result: %f\"\n",
    "// let ps = printfn \"Result: %s\"\n",
    "\n",
    "// pd 5\n",
    "// pf 2.8\n",
    "// ps \"Hello\""
   ]
  },
  {
   "cell_type": "markdown",
   "metadata": {},
   "source": [
    "### **********************************************\n",
    "### Higher-Order Functions -> Code Reusability\n",
    "- Functions are things | First-Class Citizens\n",
    "- Functions can be arguments of other functions\n",
    "- Higher-Order Functions"
   ]
  },
  {
   "cell_type": "code",
   "execution_count": 14,
   "metadata": {
    "dotnet_interactive": {
     "language": "fsharp"
    },
    "polyglot_notebook": {
     "kernelName": "fsharp"
    },
    "vscode": {
     "languageId": "polyglot-notebook"
    }
   },
   "outputs": [
    {
     "name": "stdout",
     "output_type": "stream",
     "text": [
      "Result: 4\n"
     ]
    }
   ],
   "source": [
    "let square x = x * x\n",
    "\n",
    "// List.map is a higher-order function \n",
    "// that applies 'square' to each element\n",
    "let squaredEvens = \n",
    "    [2; 4; 6; 8] \n",
    "    |> List.map square  // Output: [4; 16; 36; 64]\n",
    "\n",
    "printfn \"Result: %d\" squaredEvens[0]"
   ]
  },
  {
   "cell_type": "markdown",
   "metadata": {},
   "source": [
    "### **********************************************\n",
    "### Seperation of Concerns\n",
    "- Given two Box of Lego Parts, the task is to find the difference \n",
    "- First instict is to count both \n",
    "- But do we have to? -> Another way of solving this!"
   ]
  },
  {
   "cell_type": "code",
   "execution_count": 30,
   "metadata": {
    "dotnet_interactive": {
     "language": "fsharp"
    },
    "polyglot_notebook": {
     "kernelName": "fsharp"
    },
    "vscode": {
     "languageId": "polyglot-notebook"
    }
   },
   "outputs": [
    {
     "name": "stdout",
     "output_type": "stream",
     "text": [
      "Result: 22\n"
     ]
    }
   ],
   "source": [
    "// with rec keyword makes function recursive\n",
    "// so it can call itself\n",
    "let rec findDifference x y =\n",
    "    match (x, y) with\n",
    "    | (0, _) -> y\n",
    "    | (_, 0) -> x\n",
    "    | (x, y) -> findDifference (x-1) (y-1)\n",
    "\n",
    "pd (findDifference 45 23)\n"
   ]
  },
  {
   "cell_type": "markdown",
   "metadata": {},
   "source": [
    "### **********************************************\n",
    "### Onboard AI Structures\n",
    "\n",
    "- Table on our local Wiki \n",
    "\n",
    "| AI Structures        | RH Structures |\n",
    "|----------------------|---------------|\n",
    "| BrainStem_AI_BETA    | BrainStem     |\n",
    "| Esophagus_AI_BETA    | Esophagus     |\n",
    "| ...                  | ...           |\n",
    "\n",
    "- Get this table > Check Structures > Copy Structure Volumes > Report"
   ]
  },
  {
   "cell_type": "code",
   "execution_count": 34,
   "metadata": {
    "dotnet_interactive": {
     "language": "fsharp"
    },
    "polyglot_notebook": {
     "kernelName": "fsharp"
    },
    "vscode": {
     "languageId": "polyglot-notebook"
    }
   },
   "outputs": [],
   "source": [
    "// Get this table \n",
    "let getJson url = 0     // url -> Json \n",
    "\n",
    "let parseHtml json = 0  // Json -> Html\n",
    "let findTable html = 0  // Html -> table\n"
   ]
  },
  {
   "cell_type": "markdown",
   "metadata": {},
   "source": [
    "- All of the above can fail in many ways\n",
    "- We need a type to handle all"
   ]
  },
  {
   "cell_type": "markdown",
   "metadata": {},
   "source": [
    "### **********************************************\n",
    "### Railway Oriented Programming - Result Type\n",
    "- Encapsulates types in a container\n",
    "- Either a result or an error message\n",
    "- Define Result and possible errors as types\n",
    "- Bind all together\n"
   ]
  },
  {
   "cell_type": "code",
   "execution_count": 33,
   "metadata": {
    "dotnet_interactive": {
     "language": "fsharp"
    },
    "polyglot_notebook": {
     "kernelName": "fsharp"
    },
    "vscode": {
     "languageId": "polyglot-notebook"
    }
   },
   "outputs": [],
   "source": [
    "// Unified result type \n",
    "type FetchResult<'T> = Result<'T, FetchError>\n",
    "\n",
    "// and possible errors I want to catch\n",
    "and FetchError =\n",
    "    | HttpRequestFailed\n",
    "    | JsonParsingFailed\n",
    "    | HtmlParsingFailed\n",
    "    | TableNotFound \n",
    "    | TableIsEmpty \n"
   ]
  },
  {
   "attachments": {
    "image.png": {
     "image/png": "[encoded data removed]"
    }
   },
   "cell_type": "markdown",
   "metadata": {},
   "source": [
    "![image.png](attachment:image.png)"
   ]
  },
  {
   "cell_type": "markdown",
   "metadata": {},
   "source": [
    "### **********************************************\n",
    "### Extra Benefits\n",
    "- Parallelism\n",
    "- Unit tests\n",
    "- User Interface -> Do it in C# if you want"
   ]
  }
 ],
 "metadata": {
  "kernelspec": {
   "display_name": ".NET (C#)",
   "language": "C#",
   "name": ".net-csharp"
  },
  "language_info": {
   "name": "csharp"
  },
  "polyglot_notebook": {
   "kernelInfo": {
    "defaultKernelName": "csharp",
    "items": [
     {
      "aliases": [],
      "name": "csharp"
     }
    ]
   }
  }
 },
 "nbformat": 4,
 "nbformat_minor": 2
}
